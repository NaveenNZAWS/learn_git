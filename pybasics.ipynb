{
 "cells": [
  {
   "cell_type": "code",
   "execution_count": 3,
   "metadata": {},
   "outputs": [
    {
     "data": {
      "text/plain": [
       "'hello world'"
      ]
     },
     "execution_count": 3,
     "metadata": {},
     "output_type": "execute_result"
    }
   ],
   "source": [
    "j= \"hello world\"\n",
    "j"
   ]
  },
  {
   "cell_type": "code",
   "execution_count": 4,
   "metadata": {},
   "outputs": [
    {
     "data": {
      "text/plain": [
       "'Naveen'"
      ]
     },
     "execution_count": 4,
     "metadata": {},
     "output_type": "execute_result"
    }
   ],
   "source": [
    "j = input (\"what is your name\")\n",
    "j"
   ]
  },
  {
   "cell_type": "code",
   "execution_count": 5,
   "metadata": {},
   "outputs": [
    {
     "name": "stdout",
     "output_type": "stream",
     "text": [
      "3\n"
     ]
    }
   ],
   "source": [
    "j = 3\n",
    "print(j)"
   ]
  },
  {
   "cell_type": "code",
   "execution_count": 6,
   "metadata": {},
   "outputs": [
    {
     "data": {
      "text/plain": [
       "True"
      ]
     },
     "execution_count": 6,
     "metadata": {},
     "output_type": "execute_result"
    }
   ],
   "source": [
    "my_boolean = True\n",
    "my_boolean"
   ]
  },
  {
   "cell_type": "code",
   "execution_count": 7,
   "metadata": {},
   "outputs": [
    {
     "data": {
      "text/plain": [
       "int"
      ]
     },
     "execution_count": 7,
     "metadata": {},
     "output_type": "execute_result"
    }
   ],
   "source": [
    "type (10)"
   ]
  },
  {
   "cell_type": "code",
   "execution_count": 8,
   "metadata": {},
   "outputs": [
    {
     "data": {
      "text/plain": [
       "str"
      ]
     },
     "execution_count": 8,
     "metadata": {},
     "output_type": "execute_result"
    }
   ],
   "source": [
    "type (\"names\")"
   ]
  },
  {
   "cell_type": "code",
   "execution_count": 9,
   "metadata": {},
   "outputs": [
    {
     "data": {
      "text/plain": [
       "float"
      ]
     },
     "execution_count": 9,
     "metadata": {},
     "output_type": "execute_result"
    }
   ],
   "source": [
    "type (10.4)"
   ]
  },
  {
   "cell_type": "code",
   "execution_count": 10,
   "metadata": {},
   "outputs": [
    {
     "data": {
      "text/plain": [
       "'NAVEENNAVENNAVEEN'"
      ]
     },
     "execution_count": 10,
     "metadata": {},
     "output_type": "execute_result"
    }
   ],
   "source": [
    "j = \"NaveenNavenNaveen\"\n",
    "j. upper()"
   ]
  },
  {
   "cell_type": "code",
   "execution_count": null,
   "metadata": {},
   "outputs": [],
   "source": [
    "j = \"NaveenNavenNaveen\"\n",
    "j. upper()"
   ]
  },
  {
   "cell_type": "code",
   "execution_count": 14,
   "metadata": {},
   "outputs": [
    {
     "data": {
      "text/plain": [
       "'naveennavennaveen'"
      ]
     },
     "execution_count": 14,
     "metadata": {},
     "output_type": "execute_result"
    }
   ],
   "source": [
    "j = \"NaveenNavenNaveen\"\n",
    "j. lower()"
   ]
  },
  {
   "cell_type": "code",
   "execution_count": 12,
   "metadata": {},
   "outputs": [
    {
     "data": {
      "text/plain": [
       "'NAVEENNAVENNAVEEN'"
      ]
     },
     "execution_count": 12,
     "metadata": {},
     "output_type": "execute_result"
    }
   ],
   "source": [
    "j = \"NaveenNavenNaveen\"\n",
    "j = j.upper()\n",
    "j"
   ]
  },
  {
   "cell_type": "code",
   "execution_count": 13,
   "metadata": {},
   "outputs": [
    {
     "data": {
      "text/plain": [
       "'naveennavennaveen'"
      ]
     },
     "execution_count": 13,
     "metadata": {},
     "output_type": "execute_result"
    }
   ],
   "source": [
    "j = \"NaveenNavenNaveen\"\n",
    "j = j.lower()\n",
    "j"
   ]
  },
  {
   "cell_type": "code",
   "execution_count": 15,
   "metadata": {},
   "outputs": [
    {
     "data": {
      "text/plain": [
       "['japan', 1, 'true', 1.4, ['a nested list', 5]]"
      ]
     },
     "execution_count": 15,
     "metadata": {},
     "output_type": "execute_result"
    }
   ],
   "source": [
    "j = [\"japan\",1,\"true\",1.4,[\"a nested list\",5]]\n",
    "j"
   ]
  },
  {
   "cell_type": "code",
   "execution_count": 18,
   "metadata": {},
   "outputs": [
    {
     "data": {
      "text/plain": [
       "'true'"
      ]
     },
     "execution_count": 18,
     "metadata": {},
     "output_type": "execute_result"
    }
   ],
   "source": [
    "j = [\"jayden\",1,\"true\",1.4,[\"a nested list\",5]]\n",
    "j [2]"
   ]
  },
  {
   "cell_type": "code",
   "execution_count": 19,
   "metadata": {},
   "outputs": [
    {
     "data": {
      "text/plain": [
       "'a nested list'"
      ]
     },
     "execution_count": 19,
     "metadata": {},
     "output_type": "execute_result"
    }
   ],
   "source": [
    "j = [\"jayden\",1,\"true\",1.4,[\"a nested list\",5]]\n",
    "j [-1] [0]"
   ]
  },
  {
   "cell_type": "code",
   "execution_count": 22,
   "metadata": {},
   "outputs": [
    {
     "name": "stdout",
     "output_type": "stream",
     "text": [
      "[True]\n",
      "[True, 'this is string']\n",
      "[19, True, 'this is string']\n",
      "[19, True]\n",
      "[True]\n"
     ]
    }
   ],
   "source": [
    "new_list = [ True]\n",
    "print(new_list)\n",
    "new_list. append (\"this is string\")\n",
    "print(new_list)\n",
    "new_list . insert(0,19)\n",
    "print(new_list)\n",
    "new_list. pop()\n",
    "print(new_list)\n",
    "new_list. pop(0)\n",
    "print (new_list)\n"
   ]
  },
  {
   "cell_type": "code",
   "execution_count": 26,
   "metadata": {},
   "outputs": [
    {
     "data": {
      "text/plain": [
       "[0, 3, 4, 5, 8]"
      ]
     },
     "execution_count": 26,
     "metadata": {},
     "output_type": "execute_result"
    }
   ],
   "source": [
    "numbered_list = [8, 4, 5, 3, 0]\n",
    "numbered_list.sort()\n",
    "numbered_list\n"
   ]
  },
  {
   "cell_type": "code",
   "execution_count": 27,
   "metadata": {},
   "outputs": [
    {
     "data": {
      "text/plain": [
       "[8, 5, 4, 3, 0]"
      ]
     },
     "execution_count": 27,
     "metadata": {},
     "output_type": "execute_result"
    }
   ],
   "source": [
    "numbered_list = [8, 4, 5, 3, 0]\n",
    "numbered_list.sort (reverse=True)\n",
    "numbered_list"
   ]
  },
  {
   "cell_type": "code",
   "execution_count": 28,
   "metadata": {},
   "outputs": [
    {
     "name": "stdout",
     "output_type": "stream",
     "text": [
      "[0, 3, 4, 5, 8]\n",
      "[8, 4, 5, 3, 0]\n"
     ]
    }
   ],
   "source": [
    "numbered_list = [8, 4, 5, 3, 0]\n",
    "print (sorted(numbered_list))\n",
    "print(numbered_list)"
   ]
  },
  {
   "cell_type": "code",
   "execution_count": 29,
   "metadata": {},
   "outputs": [
    {
     "name": "stdout",
     "output_type": "stream",
     "text": [
      "['Bruno', 'Joswa', 'Laura', 'Naveen', 'jayden']\n"
     ]
    }
   ],
   "source": [
    "list_of_strings = [\"Naveen\",\"Joswa\",\"Bruno\",\"Laura\",\"jayden\"]\n",
    "print(sorted(list_of_strings))"
   ]
  },
  {
   "cell_type": "code",
   "execution_count": 66,
   "metadata": {},
   "outputs": [
    {
     "name": "stdout",
     "output_type": "stream",
     "text": [
      "0\n",
      "You Changed constant, dont do that\n"
     ]
    }
   ],
   "source": [
    "HOURLEY_SALARY = 50\n",
    "from typing import Final\n",
    "NEW_HOURLEY_SALARY:Final[int] = 0\n",
    "NEW_HOURLEY_SALARY\n",
    "print(NEW_HOURLEY_SALARY)\n",
    "if(NEW_HOURLEY_SALARY !=60):\n",
    "    print(\"You Changed constant, dont do that\")"
   ]
  },
  {
   "cell_type": "code",
   "execution_count": 74,
   "metadata": {},
   "outputs": [
    {
     "name": "stdout",
     "output_type": "stream",
     "text": [
      "{'cherries', 'oranges', 'apples', 'mangoes', 'lemon'}\n",
      "{'apples'}\n",
      "{'mangoes', 'cherries'}\n"
     ]
    },
    {
     "data": {
      "text/plain": [
       "['apples', 'cherries', 'lemon', 'mangoes', 'oranges']"
      ]
     },
     "execution_count": 74,
     "metadata": {},
     "output_type": "execute_result"
    }
   ],
   "source": [
    "my_set={\"apples\",\"mangoes\",\"cherries\"}\n",
    "another_set = {\"apples\",\"oranges\",\"lemon\"}\n",
    "union = my_set. union(another_set)\n",
    "print(union)\n",
    "intersection=my_set.intersection(another_set)\n",
    "print(intersection)\n",
    "only_mine = my_set.difference(another_set)\n",
    "print (only_mine)\n",
    "only_another_set=another_set.difference(my_set)\n",
    "sorted(list(union))"
   ]
  },
  {
   "cell_type": "code",
   "execution_count": 83,
   "metadata": {},
   "outputs": [
    {
     "name": "stdout",
     "output_type": "stream",
     "text": [
      "Not recognise your fav\n"
     ]
    }
   ],
   "source": [
    "favourite_animal=input(\"Choose your fav\")\n",
    "favourite_animal=favourite_animal.lower()\n",
    "if favourite_animal ==\"dog\":\n",
    "    print(\"you are a dog person\")\n",
    "elif favourite_animal ==\"cat\":\n",
    "    print(\"you are a cat person\")\n",
    "elif favourite_animal==\"bird\":\n",
    "    print(\"you are a bird person\")\n",
    "else:\n",
    "    print(\"Not recognise your fav\")\n",
    "    \n",
    "    \n",
    "  "
   ]
  },
  {
   "cell_type": "code",
   "execution_count": 105,
   "metadata": {},
   "outputs": [
    {
     "name": "stdout",
     "output_type": "stream",
     "text": [
      "dog\n"
     ]
    }
   ],
   "source": [
    "  favourite_animal = \"\"\n",
    "  while favourite_animal != \"cat\" and favourite_animal !=\"dog\":\n",
    "        favourite_animal = input(\"are you dog or cat person??\")\n",
    "  print(favourite_animal)"
   ]
  },
  {
   "cell_type": "code",
   "execution_count": 111,
   "metadata": {},
   "outputs": [
    {
     "name": "stdout",
     "output_type": "stream",
     "text": [
      "x=2\n"
     ]
    }
   ],
   "source": [
    "x = 2\n",
    "match x:\n",
    "    case 1:\n",
    "        print(\"x=2\")\n",
    "    case 2:\n",
    "            print(\"x=2\")\n",
    "    case _:\n",
    "             print(\"I dont wanna talk\")\n",
    "                "
   ]
  },
  {
   "cell_type": "code",
   "execution_count": 153,
   "metadata": {},
   "outputs": [
    {
     "name": "stdout",
     "output_type": "stream",
     "text": [
      "Color is red\n"
     ]
    }
   ],
   "source": [
    "from enum import Enum\n",
    "class Color(Enum):\n",
    "   RED = 1\n",
    "   BLUE = 2\n",
    "   GREEN = 3\n",
    "   ORANGE = 4\n",
    "   VIOLET = 5\n",
    "   YELLOW = 6\n",
    "   MAROON = 7\n",
    "\n",
    "my_Color = Color.RED\n",
    "\n",
    "match my_Color:\n",
    "    case Color.RED:\n",
    "        print(\"Color is red\")\n",
    "    case Color.BLUE:\n",
    "           print(\"Color is green\")  \n",
    "    case Color.BLUE:\n",
    "           print(\"Color is green\")\n",
    "    case _:\n",
    "           print(\"not my color\")\n"
   ]
  },
  {
   "cell_type": "code",
   "execution_count": 154,
   "metadata": {},
   "outputs": [
    {
     "data": {
      "text/plain": [
       "range(0, 5)"
      ]
     },
     "execution_count": 154,
     "metadata": {},
     "output_type": "execute_result"
    }
   ],
   "source": [
    "range(5)"
   ]
  },
  {
   "cell_type": "code",
   "execution_count": 155,
   "metadata": {},
   "outputs": [
    {
     "name": "stdout",
     "output_type": "stream",
     "text": [
      "0\n",
      "1\n",
      "2\n",
      "3\n",
      "4\n"
     ]
    }
   ],
   "source": [
    "for i in range(5):\n",
    "    print(i)"
   ]
  },
  {
   "cell_type": "code",
   "execution_count": 156,
   "metadata": {},
   "outputs": [
    {
     "name": "stdout",
     "output_type": "stream",
     "text": [
      "0\n",
      "1\n",
      "2\n",
      "3\n",
      "4\n"
     ]
    }
   ],
   "source": [
    "my_list = [0,1,2,3,4]\n",
    "for i in my_list:\n",
    "    print(i)\n",
    "    "
   ]
  },
  {
   "cell_type": "code",
   "execution_count": 157,
   "metadata": {},
   "outputs": [
    {
     "name": "stdout",
     "output_type": "stream",
     "text": [
      "NAVEEN\n",
      "BRUNO\n",
      "LAURA\n",
      "JAYDEN\n",
      "['NAVEEN', 'BRUNO', 'LAURA', 'JAYDEN']\n"
     ]
    }
   ],
   "source": [
    "my_list =[\"Naveen\" ,\"Bruno\",\"Laura\",\"Jayden\"]\n",
    "new_list=[]\n",
    "for i in my_list:\n",
    "    new_name = i.upper()\n",
    "    new_list.append(new_name)\n",
    "    print(new_name)\n",
    "print(new_list)\n",
    "    "
   ]
  },
  {
   "cell_type": "code",
   "execution_count": 158,
   "metadata": {},
   "outputs": [
    {
     "name": "stdout",
     "output_type": "stream",
     "text": [
      "['NAVEEN', 'BRUNO', 'LAURA', 'JAYDEN']\n"
     ]
    }
   ],
   "source": [
    "my_list =[\"Naveen\" ,\"Bruno\",\"Laura\",\"Jayden\"]\n",
    "new_list = [i.upper() for i in my_list]\n",
    "print(new_list)\n"
   ]
  },
  {
   "cell_type": "code",
   "execution_count": 159,
   "metadata": {},
   "outputs": [
    {
     "name": "stdout",
     "output_type": "stream",
     "text": [
      "[6.2, 11.2, 13.4, 17.0]\n"
     ]
    }
   ],
   "source": [
    "my_numbers = [3.1,5.6,6.7,8.5]\n",
    "new_numbers = [2*i for i in my_numbers]\n",
    "print(new_numbers)\n"
   ]
  },
  {
   "cell_type": "code",
   "execution_count": 163,
   "metadata": {},
   "outputs": [
    {
     "name": "stdout",
     "output_type": "stream",
     "text": [
      "0. Naveen\n",
      "1. Bruno\n",
      "2. Laura\n",
      "3. Jayden\n"
     ]
    }
   ],
   "source": [
    "my_list =[\"Naveen\" ,\"Bruno\",\"Laura\",\"Jayden\"]\n",
    "for index, item in enumerate(my_list):\n",
    "     print(f\"{index}. {item}\")"
   ]
  },
  {
   "cell_type": "code",
   "execution_count": 164,
   "metadata": {},
   "outputs": [
    {
     "name": "stdout",
     "output_type": "stream",
     "text": [
      "Name. Naveen\n",
      "age. 34\n",
      "place. auckland\n"
     ]
    }
   ],
   "source": [
    "my_info = {\"Name\" : \"Naveen\", \"age\":33, \"place\":\"auckland\"}\n",
    "for key, value in my_info.items():\n",
    "    print(f\"{key}. {value}\")\n",
    "    "
   ]
  },
  {
   "cell_type": "code",
   "execution_count": 165,
   "metadata": {},
   "outputs": [
    {
     "name": "stdout",
     "output_type": "stream",
     "text": [
      "['item1', 'item2', 'item3', 'item4']\n",
      "item1\n",
      "item2\n",
      "item3\n",
      "['item4']\n"
     ]
    }
   ],
   "source": [
    "my_queue =[]\n",
    "my_queue.append(\"item1\")\n",
    "my_queue.append(\"item2\")\n",
    "my_queue.append(\"item3\")\n",
    "my_queue.append(\"item4\")\n",
    "print (my_queue)\n",
    "print(my_queue.pop(0))\n",
    "print(my_queue.pop(0))\n",
    "print(my_queue.pop(0))\n",
    "print(my_queue)\n",
    "\n",
    "\n"
   ]
  },
  {
   "cell_type": "code",
   "execution_count": 168,
   "metadata": {},
   "outputs": [
    {
     "name": "stdout",
     "output_type": "stream",
     "text": [
      "10\n",
      "152\n",
      "2468\n"
     ]
    }
   ],
   "source": [
    "def times_two(x):\n",
    "    return 2*x\n",
    "print(times_two(5))\n",
    "print(times_two(76))\n",
    "print(times_two(1234))\n",
    "\n"
   ]
  },
  {
   "cell_type": "code",
   "execution_count": 171,
   "metadata": {},
   "outputs": [
    {
     "name": "stdout",
     "output_type": "stream",
     "text": [
      "value of x =9n& value of y =3\n"
     ]
    }
   ],
   "source": [
    "def side_effect(x,y):\n",
    "    print(f\"value of x ={x}n& value of y ={y}\")\n",
    "\n",
    "side_effect(9,3)\n",
    "    "
   ]
  },
  {
   "cell_type": "code",
   "execution_count": 172,
   "metadata": {},
   "outputs": [
    {
     "name": "stdout",
     "output_type": "stream",
     "text": [
      "nicely printing 3192\n",
      "nicely printing 1190\n",
      "nicely printing 56\n"
     ]
    },
    {
     "data": {
      "text/plain": [
       "56"
      ]
     },
     "execution_count": 172,
     "metadata": {},
     "output_type": "execute_result"
    }
   ],
   "source": [
    "def print_nicely(my_string):\n",
    "    print(f\"nicely printing {my_string}\")\n",
    "def complex_processing(x):\n",
    "    output_value=x * x + x\n",
    "    print_nicely(output_value)\n",
    "    return output_value\n",
    "complex_processing(56)\n",
    "complex_processing(34)\n",
    "complex_processing(7)\n"
   ]
  },
  {
   "cell_type": "code",
   "execution_count": 173,
   "metadata": {},
   "outputs": [
    {
     "name": "stdout",
     "output_type": "stream",
     "text": [
      "5\n"
     ]
    },
    {
     "data": {
      "text/plain": [
       "12"
      ]
     },
     "execution_count": 173,
     "metadata": {},
     "output_type": "execute_result"
    }
   ],
   "source": [
    "y=5\n",
    "\n",
    "def times_two(x):\n",
    "    print(y)\n",
    "    return 2*x\n",
    "\n",
    "times_two(6)"
   ]
  },
  {
   "cell_type": "code",
   "execution_count": 174,
   "metadata": {},
   "outputs": [
    {
     "name": "stdout",
     "output_type": "stream",
     "text": [
      "y =6\n",
      "y =5\n"
     ]
    }
   ],
   "source": [
    "y = 5\n",
    "\n",
    "def times_two(x):\n",
    "    y=x\n",
    "    print(f\"y ={y}\")\n",
    "    return 2*x\n",
    "\n",
    "times_two(6)\n",
    "print(f\"y ={y}\")"
   ]
  },
  {
   "cell_type": "code",
   "execution_count": 176,
   "metadata": {},
   "outputs": [
    {
     "ename": "ZeroDivisionError",
     "evalue": "division by zero",
     "output_type": "error",
     "traceback": [
      "\u001b[1;31m---------------------------------------------------------------------------\u001b[0m",
      "\u001b[1;31mZeroDivisionError\u001b[0m                         Traceback (most recent call last)",
      "\u001b[1;32md:\\workarea\\testnaveenaws\\learn_git\\pybasics.ipynb Cell 41\u001b[0m line \u001b[0;36m1\n\u001b[1;32m----> <a href='vscode-notebook-cell:/d%3A/workarea/testnaveenaws/learn_git/pybasics.ipynb#Y113sZmlsZQ%3D%3D?line=0'>1</a>\u001b[0m \u001b[39m1\u001b[39;49m \u001b[39m/\u001b[39;49m \u001b[39m0\u001b[39;49m\n",
      "\u001b[1;31mZeroDivisionError\u001b[0m: division by zero"
     ]
    }
   ],
   "source": [
    "x = y\n"
   ]
  },
  {
   "cell_type": "code",
   "execution_count": null,
   "metadata": {},
   "outputs": [],
   "source": [
    "assert 1 == 0, \"I expect 1 and 0 to be different\""
   ]
  },
  {
   "cell_type": "code",
   "execution_count": null,
   "metadata": {},
   "outputs": [],
   "source": [
    "assert 4 > 3"
   ]
  },
  {
   "cell_type": "code",
   "execution_count": null,
   "metadata": {},
   "outputs": [],
   "source": [
    "def double_value(x):\n",
    "    return 2 * x\n",
    "assert double_value(1) == 2\n",
    "assert double_value(2) == 2\n",
    "assert double_value(2) == 2"
   ]
  },
  {
   "cell_type": "code",
   "execution_count": null,
   "metadata": {},
   "outputs": [],
   "source": [
    "try:\n",
    "    print(x)\n",
    "except:\n",
    "    print(\"error\")\n",
    "\n",
    "print(\"program is still operating normal\")"
   ]
  },
  {
   "cell_type": "code",
   "execution_count": null,
   "metadata": {},
   "outputs": [],
   "source": [
    "try:\n",
    "    print(x)\n",
    "except Exception as e:\n",
    "    #print(\"error\")\n",
    "    print(e)\n",
    "print(\"program is still operating normal\")"
   ]
  },
  {
   "cell_type": "code",
   "execution_count": null,
   "metadata": {},
   "outputs": [],
   "source": [
    "try:\n",
    "    print(1 / 0, x)\n",
    "    #print(x)\n",
    "except ZeroDivisionError as zde:\n",
    "    #print(\"i caught zero division error\") \n",
    "    print(zde)\n",
    "except Exception as e:\n",
    "    #print(\"error\")\n",
    "    print(e)\n",
    "print(\"program is still operating normal\")"
   ]
  },
  {
   "cell_type": "code",
   "execution_count": 177,
   "metadata": {},
   "outputs": [
    {
     "name": "stdout",
     "output_type": "stream",
     "text": [
      "we divided 2 by 3 = 0.6666666666666666\n",
      "0.6666666666666666\n",
      "you cannot divide by zero\n",
      "unsupported operand type(s) for /: 'str' and 'str'\n"
     ]
    }
   ],
   "source": [
    "def divide_numbers(x, y):\n",
    "    try:\n",
    "        results = x / y\n",
    "    except ZeroDivisionError as zde:\n",
    "        print(\"you cannot divide by zero\")\n",
    "    except Exception as e:\n",
    "        print(e)\n",
    "    else:\n",
    "        print(f\"we divided {x} by {y} = {results}\")\n",
    "        return results\n",
    "    \n",
    "print(divide_numbers(2, 3))\n",
    "divide_numbers(1, 0)\n",
    "divide_numbers(\"one\", \"two\")"
   ]
  }
 ],
 "metadata": {
  "kernelspec": {
   "display_name": "Python 3",
   "language": "python",
   "name": "python3"
  },
  "language_info": {
   "codemirror_mode": {
    "name": "ipython",
    "version": 3
   },
   "file_extension": ".py",
   "mimetype": "text/x-python",
   "name": "python",
   "nbconvert_exporter": "python",
   "pygments_lexer": "ipython3",
   "version": "3.11.6"
  }
 },
 "nbformat": 4,
 "nbformat_minor": 2
}
