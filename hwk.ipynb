{
 "cells": [
  {
   "cell_type": "code",
   "execution_count": null,
   "metadata": {},
   "outputs": [],
   "source": [
    "module 1"
   ]
  },
  {
   "cell_type": "code",
   "execution_count": null,
   "metadata": {},
   "outputs": [],
   "source": [
    "\n",
    "    module 2\n",
    "    "
   ]
  },
  {
   "cell_type": "code",
   "execution_count": 37,
   "metadata": {},
   "outputs": [
    {
     "name": "stdout",
     "output_type": "stream",
     "text": [
      "D A T G R O H U "
     ]
    }
   ],
   "source": [
    "\n",
    "k=19 \n",
    "\n",
    "dict={\"A\":0,\"B\":1,\"C\":2,\"D\":3,\"E\":4,\"F\":5,\"G\":6,\"H\":7,\"I\":8,\"J\":9,\"K\":10,\"L\":11,\"M\":12,\"N\":13,\"O\":14,\"P\":15,\"Q\":16,\"R\":17,\"S\":18,\"T\":19,\"U\":20,\"V\":21,\"W\":22,\"X\":23,\"Y\":24,\"Z\":25}\n",
    "\n",
    "e_dict={19:\"T\",20:\"U\",21:\"V\",22:\"W\",23:\"X\",24:\"Y\",25:\"Z\",0:\"A\",1:\"B\",2:\"C\",3:\"D\",4:\"E\",5:\"F\",6:\"G\",7:\"H\",8:\"I\",9:\"J\",10:\"K\",11:\"L\",12:\"M\",13:\"N\",14:\"O\",15:\"P\",16:\"Q\",17:\"R\",18:\"S\"}\n",
    "\n",
    "t1=input(\"Enter your string:\\n\")\n",
    "char1=t1.upper()\n",
    "\n",
    "#encryption function \n",
    "def encrypt(txt, s):\n",
    "     for i in range(len(txt)):\n",
    "        a=int(f\"{dict[txt[i]]}\")\n",
    "        x=(a+s) % 26\n",
    "        print(f\"{e_dict[x]}\", end=\" \")\n",
    "encrypt(char1, k)\n",
    "\n",
    "t2=input(\"\\nEnter encrypted message:\\n\")\n",
    "char2=t2.upper()\n",
    "\n",
    "#decryption function \n",
    "def decrypt(txt, s):\n",
    "     for i in range(len(txt)):\n",
    "        a=int(f\"{dict[txt[i]]}\")\n",
    "        x=(a-s) % 26\n",
    "        print(f\"{e_dict[x]}\", end=\" \")\n",
    "decrypt(char2, k)\n",
    "\n",
    "\n",
    "\n",
    "\n",
    "\n"
   ]
  },
  {
   "cell_type": "code",
   "execution_count": null,
   "metadata": {},
   "outputs": [],
   "source": []
  }
 ],
 "metadata": {
  "kernelspec": {
   "display_name": "Python 3",
   "language": "python",
   "name": "python3"
  },
  "language_info": {
   "codemirror_mode": {
    "name": "ipython",
    "version": 3
   },
   "file_extension": ".py",
   "mimetype": "text/x-python",
   "name": "python",
   "nbconvert_exporter": "python",
   "pygments_lexer": "ipython3",
   "version": "3.11.6"
  }
 },
 "nbformat": 4,
 "nbformat_minor": 2
}
